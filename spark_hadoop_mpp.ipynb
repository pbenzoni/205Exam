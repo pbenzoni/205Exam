{
 "cells": [
  {
   "cell_type": "markdown",
   "metadata": {},
   "source": [
    "# Spark and Hadoop MPP Demonstration\n",
    "Peter Benzoni"
   ]
  },
  {
   "cell_type": "markdown",
   "metadata": {},
   "source": [
    "### Load Assessments data and print initial info\n",
    "\n",
    "### Step 1 - Load JSON Data; Step 2 – Pretty Print First JSON Object"
   ]
  },
  {
   "cell_type": "code",
   "execution_count": null,
   "metadata": {},
   "outputs": [],
   "source": [
    "from pyspark.sql import SparkSession\n",
    "from pprint import pprint\n",
    "\n",
    "spark = SparkSession.builder.appName(\"MPP Demo\").getOrCreate()\n",
    "assessments_1 = spark.read.json(\"./data/assessments.json\")\n",
    "assessments_1.show()\n",
    "\n",
    "first_record = assessments_1.first()\n",
    "pprint(first_record.asDict(), indent=3)"
   ]
  },
  {
   "cell_type": "markdown",
   "metadata": {},
   "source": [
    "### Step 3 – Recursive Walk First JSON Object"
   ]
  },
  {
   "cell_type": "code",
   "execution_count": null,
   "metadata": {},
   "outputs": [],
   "source": [
    "def recursive_walk(obj, indent=0):\n",
    "    if isinstance(obj, dict):\n",
    "        for k, v in obj.items():\n",
    "            print(' ' * indent + k + ':')\n",
    "            recursive_walk(v, indent+3)\n",
    "    elif isinstance(obj, list):\n",
    "        for i, item in enumerate(obj):\n",
    "            print(' ' * indent + 'List item ' + str(i) + ':')\n",
    "            recursive_walk(item, indent+3)\n",
    "    else:\n",
    "        print(' ' * indent + str(obj))\n",
    "recursive_walk(first_record.asDict())"
   ]
  },
  {
   "cell_type": "markdown",
   "metadata": {},
   "source": [
    "### Step 4 - Demonstrate MPP Spark Transform\n"
   ]
  },
  {
   "cell_type": "code",
   "execution_count": null,
   "metadata": {},
   "outputs": [],
   "source": [
    "assessments_2 = assessments_1.filter(assessments_1.submitted == 1)"
   ]
  },
  {
   "cell_type": "markdown",
   "metadata": {},
   "source": [
    "### Step 5 – Spark SQL in Memory Query"
   ]
  },
  {
   "cell_type": "code",
   "execution_count": null,
   "metadata": {},
   "outputs": [],
   "source": [
    "assessments_2.createOrReplaceTempView(\"temp_assessments\")\n",
    "assessments_3 = spark.sql(\"SELECT * FROM temp_assessments WHERE submitted = 1\")"
   ]
  },
  {
   "cell_type": "markdown",
   "metadata": {},
   "source": [
    "### Step 6 – Write to Hadoop HDFS Parquet"
   ]
  },
  {
   "cell_type": "code",
   "execution_count": null,
   "metadata": {},
   "outputs": [],
   "source": [
    "assessments_3.write.parquet(\"hdfs://hadoop:9000/user/root/assessments_parquet\")"
   ]
  },
  {
   "cell_type": "markdown",
   "metadata": {},
   "source": [
    "### Step 7 – Spark SQL Query against Hadoop HDFS"
   ]
  },
  {
   "cell_type": "code",
   "execution_count": null,
   "metadata": {},
   "outputs": [],
   "source": [
    "assessments_df = spark.read.parquet(\"hdfs://hadoop:9000/user/root/assessments_parquet\")\n",
    "assessments_df.createOrReplaceTempView(\"assessments\")\n",
    "result = spark.sql(\"SELECT * FROM assessments WHERE submitted = 1\")"
   ]
  },
  {
   "cell_type": "markdown",
   "metadata": {},
   "source": [
    "### Step 8 – MPP Read from Hadoop HDFS Parquet Columnar Table"
   ]
  },
  {
   "cell_type": "code",
   "execution_count": null,
   "metadata": {},
   "outputs": [],
   "source": [
    "assessments = spark.read.parquet(\"hdfs://hadoop:9000/user/root/assessments_parquet\")\n",
    "assessments.show()"
   ]
  }
 ],
 "metadata": {
  "kernelspec": {
   "display_name": "Python 3",
   "language": "python",
   "name": "python3"
  },
  "language_info": {
   "codemirror_mode": {
    "name": "ipython",
    "version": 3
   },
   "file_extension": ".py",
   "mimetype": "text/x-python",
   "name": "python",
   "nbconvert_exporter": "python",
   "pygments_lexer": "ipython3",
   "version": "3.11.1"
  }
 },
 "nbformat": 4,
 "nbformat_minor": 2
}
